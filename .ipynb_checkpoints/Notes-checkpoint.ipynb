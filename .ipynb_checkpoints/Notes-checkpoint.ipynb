{
 "cells": [
  {
   "cell_type": "markdown",
   "metadata": {},
   "source": [
    "**Ian's Analysis**\n",
    "\n",
    "[Chess](https://uscfsales.files.wordpress.com/2011/07/2011_0708_01.jpg)\n",
    "\n",
    "My portion of our analysis is to see if there are any correlations between starting plies (each players move is a ply; thus there are 2 plies per turn) and victories in the match and to find out whether whether there is a difference in starting plies based on the colour one is playing as. "
   ]
  },
  {
   "cell_type": "code",
   "execution_count": null,
   "metadata": {},
   "outputs": [],
   "source": []
  }
 ],
 "metadata": {
  "kernelspec": {
   "display_name": "",
   "name": ""
  },
  "language_info": {
   "name": ""
  }
 },
 "nbformat": 4,
 "nbformat_minor": 4
}
