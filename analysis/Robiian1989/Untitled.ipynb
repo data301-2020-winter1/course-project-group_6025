{
 "cells": [
  {
   "cell_type": "code",
   "execution_count": 3,
   "metadata": {},
   "outputs": [
    {
     "data": {
      "text/html": [
       "<div>\n",
       "<style scoped>\n",
       "    .dataframe tbody tr th:only-of-type {\n",
       "        vertical-align: middle;\n",
       "    }\n",
       "\n",
       "    .dataframe tbody tr th {\n",
       "        vertical-align: top;\n",
       "    }\n",
       "\n",
       "    .dataframe thead th {\n",
       "        text-align: right;\n",
       "    }\n",
       "</style>\n",
       "<table border=\"1\" class=\"dataframe\">\n",
       "  <thead>\n",
       "    <tr style=\"text-align: right;\">\n",
       "      <th></th>\n",
       "      <th>turns</th>\n",
       "      <th>victory_status</th>\n",
       "      <th>winner</th>\n",
       "      <th>time</th>\n",
       "      <th>white_rating</th>\n",
       "      <th>black_rating</th>\n",
       "      <th>moves</th>\n",
       "      <th>opening_ply</th>\n",
       "      <th>move_name_and_eco</th>\n",
       "    </tr>\n",
       "  </thead>\n",
       "  <tbody>\n",
       "    <tr>\n",
       "      <th>0</th>\n",
       "      <td>1</td>\n",
       "      <td>resign</td>\n",
       "      <td>white</td>\n",
       "      <td>10+0</td>\n",
       "      <td>1670</td>\n",
       "      <td>1175</td>\n",
       "      <td>e4</td>\n",
       "      <td>1</td>\n",
       "      <td>King's Pawn(B00)</td>\n",
       "    </tr>\n",
       "    <tr>\n",
       "      <th>1</th>\n",
       "      <td>1</td>\n",
       "      <td>resign</td>\n",
       "      <td>black</td>\n",
       "      <td>10+0</td>\n",
       "      <td>1464</td>\n",
       "      <td>1355</td>\n",
       "      <td>g3</td>\n",
       "      <td>1</td>\n",
       "      <td>Hungarian Opening(A00)</td>\n",
       "    </tr>\n",
       "    <tr>\n",
       "      <th>2</th>\n",
       "      <td>1</td>\n",
       "      <td>outoftime</td>\n",
       "      <td>white</td>\n",
       "      <td>5+15</td>\n",
       "      <td>2404</td>\n",
       "      <td>1616</td>\n",
       "      <td>e4</td>\n",
       "      <td>1</td>\n",
       "      <td>King's Pawn(B00)</td>\n",
       "    </tr>\n",
       "    <tr>\n",
       "      <th>3</th>\n",
       "      <td>1</td>\n",
       "      <td>outoftime</td>\n",
       "      <td>white</td>\n",
       "      <td>20+10</td>\n",
       "      <td>2438</td>\n",
       "      <td>1666</td>\n",
       "      <td>e4</td>\n",
       "      <td>1</td>\n",
       "      <td>King's Pawn(B00)</td>\n",
       "    </tr>\n",
       "    <tr>\n",
       "      <th>4</th>\n",
       "      <td>1</td>\n",
       "      <td>outoftime</td>\n",
       "      <td>white</td>\n",
       "      <td>20+10</td>\n",
       "      <td>2438</td>\n",
       "      <td>1885</td>\n",
       "      <td>e4</td>\n",
       "      <td>1</td>\n",
       "      <td>King's Pawn(B00)</td>\n",
       "    </tr>\n",
       "    <tr>\n",
       "      <th>...</th>\n",
       "      <td>...</td>\n",
       "      <td>...</td>\n",
       "      <td>...</td>\n",
       "      <td>...</td>\n",
       "      <td>...</td>\n",
       "      <td>...</td>\n",
       "      <td>...</td>\n",
       "      <td>...</td>\n",
       "      <td>...</td>\n",
       "    </tr>\n",
       "    <tr>\n",
       "      <th>20053</th>\n",
       "      <td>226</td>\n",
       "      <td>draw</td>\n",
       "      <td>draw</td>\n",
       "      <td>10+0</td>\n",
       "      <td>1817</td>\n",
       "      <td>1907</td>\n",
       "      <td>e4 e6 Nf3 d5 exd5 exd5 d4 Nf6 Bg5 Be7 Nc3 Be6 ...</td>\n",
       "      <td>3</td>\n",
       "      <td>French Defense: Knight Variation(C00)</td>\n",
       "    </tr>\n",
       "    <tr>\n",
       "      <th>20054</th>\n",
       "      <td>255</td>\n",
       "      <td>draw</td>\n",
       "      <td>draw</td>\n",
       "      <td>7+2</td>\n",
       "      <td>1585</td>\n",
       "      <td>1448</td>\n",
       "      <td>e4 e6 Nc3 d5 exd5 exd5 d4 Nf6 Bf4 Be7 Nf3 O-O ...</td>\n",
       "      <td>3</td>\n",
       "      <td>French Defense: Queen's Knight(C00)</td>\n",
       "    </tr>\n",
       "    <tr>\n",
       "      <th>20055</th>\n",
       "      <td>259</td>\n",
       "      <td>draw</td>\n",
       "      <td>draw</td>\n",
       "      <td>15+5</td>\n",
       "      <td>1441</td>\n",
       "      <td>1461</td>\n",
       "      <td>d4 d5 c4 c6 Nc3 Nf6 Bg5 Nbd7 Qc2 Qb6 e3 h6 Bf4...</td>\n",
       "      <td>5</td>\n",
       "      <td>Slav Defense #2(D10)</td>\n",
       "    </tr>\n",
       "    <tr>\n",
       "      <th>20056</th>\n",
       "      <td>349</td>\n",
       "      <td>outoftime</td>\n",
       "      <td>white</td>\n",
       "      <td>10+0</td>\n",
       "      <td>2194</td>\n",
       "      <td>2240</td>\n",
       "      <td>d4 d5 c4 c6 Nf3 Nf6 Nc3 e6 Bg5 h6 Bxf6 Qxf6 Qb...</td>\n",
       "      <td>13</td>\n",
       "      <td>Queen's Gambit Declined: Hastings Variation(D30)</td>\n",
       "    </tr>\n",
       "    <tr>\n",
       "      <th>20057</th>\n",
       "      <td>349</td>\n",
       "      <td>outoftime</td>\n",
       "      <td>white</td>\n",
       "      <td>10+0</td>\n",
       "      <td>2194</td>\n",
       "      <td>2240</td>\n",
       "      <td>d4 d5 c4 c6 Nf3 Nf6 Nc3 e6 Bg5 h6 Bxf6 Qxf6 Qb...</td>\n",
       "      <td>13</td>\n",
       "      <td>Queen's Gambit Declined: Hastings Variation(D30)</td>\n",
       "    </tr>\n",
       "  </tbody>\n",
       "</table>\n",
       "<p>20058 rows × 9 columns</p>\n",
       "</div>"
      ],
      "text/plain": [
       "       turns victory_status winner   time  white_rating  black_rating  \\\n",
       "0          1         resign  white   10+0          1670          1175   \n",
       "1          1         resign  black   10+0          1464          1355   \n",
       "2          1      outoftime  white   5+15          2404          1616   \n",
       "3          1      outoftime  white  20+10          2438          1666   \n",
       "4          1      outoftime  white  20+10          2438          1885   \n",
       "...      ...            ...    ...    ...           ...           ...   \n",
       "20053    226           draw   draw   10+0          1817          1907   \n",
       "20054    255           draw   draw    7+2          1585          1448   \n",
       "20055    259           draw   draw   15+5          1441          1461   \n",
       "20056    349      outoftime  white   10+0          2194          2240   \n",
       "20057    349      outoftime  white   10+0          2194          2240   \n",
       "\n",
       "                                                   moves  opening_ply  \\\n",
       "0                                                     e4            1   \n",
       "1                                                     g3            1   \n",
       "2                                                     e4            1   \n",
       "3                                                     e4            1   \n",
       "4                                                     e4            1   \n",
       "...                                                  ...          ...   \n",
       "20053  e4 e6 Nf3 d5 exd5 exd5 d4 Nf6 Bg5 Be7 Nc3 Be6 ...            3   \n",
       "20054  e4 e6 Nc3 d5 exd5 exd5 d4 Nf6 Bf4 Be7 Nf3 O-O ...            3   \n",
       "20055  d4 d5 c4 c6 Nc3 Nf6 Bg5 Nbd7 Qc2 Qb6 e3 h6 Bf4...            5   \n",
       "20056  d4 d5 c4 c6 Nf3 Nf6 Nc3 e6 Bg5 h6 Bxf6 Qxf6 Qb...           13   \n",
       "20057  d4 d5 c4 c6 Nf3 Nf6 Nc3 e6 Bg5 h6 Bxf6 Qxf6 Qb...           13   \n",
       "\n",
       "                                      move_name_and_eco  \n",
       "0                                      King's Pawn(B00)  \n",
       "1                                Hungarian Opening(A00)  \n",
       "2                                      King's Pawn(B00)  \n",
       "3                                      King's Pawn(B00)  \n",
       "4                                      King's Pawn(B00)  \n",
       "...                                                 ...  \n",
       "20053             French Defense: Knight Variation(C00)  \n",
       "20054               French Defense: Queen's Knight(C00)  \n",
       "20055                              Slav Defense #2(D10)  \n",
       "20056  Queen's Gambit Declined: Hastings Variation(D30)  \n",
       "20057  Queen's Gambit Declined: Hastings Variation(D30)  \n",
       "\n",
       "[20058 rows x 9 columns]"
      ]
     },
     "execution_count": 3,
     "metadata": {},
     "output_type": "execute_result"
    }
   ],
   "source": [
    "import pandas as pd\n",
    "import numpy as np\n",
    "import seaborn as sns\n",
    "import matplotlib.pyplot as plt\n",
    "\n",
    "\n",
    "\n",
    "df1=(pd.read_csv(\"../../data/raw/Dataset_irobinson.csv.csv\")\n",
    "         .dropna()\n",
    "   )\n",
    "df2= (df1.drop(['created_at','last_move_at','rated','white_id','black_id','id'],axis=1)\n",
    "        .dropna()\n",
    "        .sort_values(by=['turns'],ascending=True)\n",
    "        .assign(move_name_and_eco= df1['opening_name']+ '('+ df1['opening_eco'] +')')\n",
    "        .drop(['opening_eco','opening_name'],axis=1)\n",
    "        .rename(columns={'increment_code':'time'})\n",
    "        .reset_index(drop=True)\n",
    "         )\n",
    "df2"
   ]
  },
  {
   "cell_type": "code",
   "execution_count": null,
   "metadata": {},
   "outputs": [],
   "source": [
    "df_high_frequencies.columns = ['value_counts']\n",
    "df_high_frequencies.reset_index()"
   ]
  },
  {
   "cell_type": "code",
   "execution_count": 65,
   "metadata": {},
   "outputs": [
    {
     "data": {
      "text/plain": [
       "Van't Kruijs Opening(A00)                             368\n",
       "Sicilian Defense: Bowdler Attack(B20)                 296\n",
       "French Defense: Knight Variation(C00)                 271\n",
       "Scandinavian Defense: Mieses-Kotroc Variation(B01)    259\n",
       "Queen's Pawn Game: Mason Attack(D00)                  232\n",
       "Scandinavian Defense(B01)                             223\n",
       "Horwitz Defense(A40)                                  209\n",
       "Philidor Defense #3(C41)                              198\n",
       "Philidor Defense #2(C41)                              193\n",
       "Indian Game(A45)                                      181\n",
       "Italian Game: Anti-Fried Liver Defense(C55)           180\n",
       "Sicilian Defense(B50)                                 171\n",
       "Owen Defense(B00)                                     168\n",
       "King's Pawn Game: Wayward Queen Attack(C20)           164\n",
       "Sicilian Defense: Old Sicilian(B30)                   159\n",
       "King's Pawn Game: Leonardis Variation(C20)            154\n",
       "Sicilian Defense(B20)                                 151\n",
       "Scotch Game(C45)                                      142\n",
       "Queen's Pawn Game(D00)                                142\n",
       "Caro-Kann Defense(B10)                                140\n",
       "Philidor Defense(C41)                                 135\n",
       "Ruy Lopez: Steinitz Defense(C62)                      134\n",
       "Hungarian Opening(A00)                                130\n",
       "Scotch Game(C44)                                      129\n",
       "French Defense: Normal Variation(C00)                 129\n",
       "Name: move_name_and_eco, dtype: int64"
      ]
     },
     "execution_count": 65,
     "metadata": {},
     "output_type": "execute_result"
    }
   ],
   "source": [
    "df3=df2['move_name_and_eco'].value_counts().head(25)\n",
    "df3"
   ]
  },
  {
   "cell_type": "code",
   "execution_count": 110,
   "metadata": {},
   "outputs": [],
   "source": [
    "df_high=df2.groupby('move_name_and_eco')['winner'].value_counts(ascending=False).sort_values(ascending=False).head(25)"
   ]
  },
  {
   "cell_type": "code",
   "execution_count": 80,
   "metadata": {},
   "outputs": [
    {
     "data": {
      "text/html": [
       "<div>\n",
       "<style scoped>\n",
       "    .dataframe tbody tr th:only-of-type {\n",
       "        vertical-align: middle;\n",
       "    }\n",
       "\n",
       "    .dataframe tbody tr th {\n",
       "        vertical-align: top;\n",
       "    }\n",
       "\n",
       "    .dataframe thead th {\n",
       "        text-align: right;\n",
       "    }\n",
       "</style>\n",
       "<table border=\"1\" class=\"dataframe\">\n",
       "  <thead>\n",
       "    <tr style=\"text-align: right;\">\n",
       "      <th></th>\n",
       "      <th>turns</th>\n",
       "      <th>victory_status</th>\n",
       "      <th>winner</th>\n",
       "      <th>time</th>\n",
       "      <th>white_rating</th>\n",
       "      <th>black_rating</th>\n",
       "      <th>moves</th>\n",
       "      <th>opening_ply</th>\n",
       "      <th>move_name_and_eco</th>\n",
       "    </tr>\n",
       "  </thead>\n",
       "  <tbody>\n",
       "    <tr>\n",
       "      <th>0</th>\n",
       "      <td>1</td>\n",
       "      <td>resign</td>\n",
       "      <td>white</td>\n",
       "      <td>10+0</td>\n",
       "      <td>1670</td>\n",
       "      <td>1175</td>\n",
       "      <td>e4</td>\n",
       "      <td>1</td>\n",
       "      <td>King's Pawn(B00)</td>\n",
       "    </tr>\n",
       "    <tr>\n",
       "      <th>1</th>\n",
       "      <td>1</td>\n",
       "      <td>resign</td>\n",
       "      <td>black</td>\n",
       "      <td>10+0</td>\n",
       "      <td>1464</td>\n",
       "      <td>1355</td>\n",
       "      <td>g3</td>\n",
       "      <td>1</td>\n",
       "      <td>Hungarian Opening(A00)</td>\n",
       "    </tr>\n",
       "  </tbody>\n",
       "</table>\n",
       "</div>"
      ],
      "text/plain": [
       "   turns victory_status winner  time  white_rating  black_rating moves  \\\n",
       "0      1         resign  white  10+0          1670          1175    e4   \n",
       "1      1         resign  black  10+0          1464          1355    g3   \n",
       "\n",
       "   opening_ply       move_name_and_eco  \n",
       "0            1        King's Pawn(B00)  \n",
       "1            1  Hungarian Opening(A00)  "
      ]
     },
     "execution_count": 80,
     "metadata": {},
     "output_type": "execute_result"
    }
   ],
   "source": [
    "#eliminates draws \n",
    "df_victory= df2[lambda row:~row['victory_status'].str.contains('draw')]\n",
    "df_victory.head(2)"
   ]
  },
  {
   "cell_type": "code",
   "execution_count": 111,
   "metadata": {},
   "outputs": [
    {
     "data": {
      "text/plain": [
       "Van't Kruijs Opening(A00)                             352\n",
       "Sicilian Defense: Bowdler Attack(B20)                 284\n",
       "French Defense: Knight Variation(C00)                 256\n",
       "Scandinavian Defense: Mieses-Kotroc Variation(B01)    253\n",
       "Queen's Pawn Game: Mason Attack(D00)                  220\n",
       "Scandinavian Defense(B01)                             213\n",
       "Horwitz Defense(A40)                                  205\n",
       "Philidor Defense #3(C41)                              194\n",
       "Philidor Defense #2(C41)                              185\n",
       "Italian Game: Anti-Fried Liver Defense(C55)           170\n",
       "Indian Game(A45)                                      170\n",
       "Sicilian Defense(B50)                                 162\n",
       "Owen Defense(B00)                                     160\n",
       "King's Pawn Game: Wayward Queen Attack(C20)           158\n",
       "Sicilian Defense: Old Sicilian(B30)                   154\n",
       "King's Pawn Game: Leonardis Variation(C20)            151\n",
       "Sicilian Defense(B20)                                 148\n",
       "Queen's Pawn Game(D00)                                136\n",
       "Caro-Kann Defense(B10)                                135\n",
       "Scotch Game(C45)                                      134\n",
       "Ruy Lopez: Steinitz Defense(C62)                      128\n",
       "Hungarian Opening(A00)                                127\n",
       "Philidor Defense(C41)                                 127\n",
       "Scotch Game(C44)                                      127\n",
       "Queen's Gambit Refused: Marshall Defense(D06)         125\n",
       "French Defense: Normal Variation(C00)                 125\n",
       "Name: move_name_and_eco, dtype: int64"
      ]
     },
     "execution_count": 111,
     "metadata": {},
     "output_type": "execute_result"
    }
   ],
   "source": [
    "#only include the highest played opening moves\n",
    "df_highest=df_victory['move_name_and_eco'].value_counts().loc[lambda x: x>124]\n",
    "df_highest "
   ]
  },
  {
   "cell_type": "code",
   "execution_count": 96,
   "metadata": {},
   "outputs": [],
   "source": [
    "\n",
    "#df2.iloc[df2.groupby('move_name_and_eco').move_name_and_eco.transform('size').argsort(kind='mergesort')]"
   ]
  },
  {
   "cell_type": "code",
   "execution_count": 103,
   "metadata": {},
   "outputs": [
    {
     "data": {
      "text/plain": [
       "resign       11147\n",
       "mate          6325\n",
       "outoftime     1680\n",
       "Name: victory_status, dtype: int64"
      ]
     },
     "execution_count": 103,
     "metadata": {},
     "output_type": "execute_result"
    }
   ],
   "source": [
    "df_victory['victory_status'].value_counts()"
   ]
  },
  {
   "cell_type": "code",
   "execution_count": 105,
   "metadata": {},
   "outputs": [
    {
     "data": {
      "text/plain": [
       "white    10001\n",
       "black     9107\n",
       "draw        44\n",
       "Name: winner, dtype: int64"
      ]
     },
     "execution_count": 105,
     "metadata": {},
     "output_type": "execute_result"
    }
   ],
   "source": [
    "df_victory['winner'].value_counts()"
   ]
  },
  {
   "cell_type": "code",
   "execution_count": 116,
   "metadata": {},
   "outputs": [
    {
     "data": {
      "text/plain": [
       "'10+0'"
      ]
     },
     "execution_count": 116,
     "metadata": {},
     "output_type": "execute_result"
    }
   ],
   "source": [
    "df2['time'][0]"
   ]
  },
  {
   "cell_type": "code",
   "execution_count": null,
   "metadata": {},
   "outputs": [],
   "source": []
  }
 ],
 "metadata": {
  "kernelspec": {
   "display_name": "Python 3",
   "language": "python",
   "name": "python3"
  },
  "language_info": {
   "codemirror_mode": {
    "name": "ipython",
    "version": 3
   },
   "file_extension": ".py",
   "mimetype": "text/x-python",
   "name": "python",
   "nbconvert_exporter": "python",
   "pygments_lexer": "ipython3",
   "version": "3.8.3"
  }
 },
 "nbformat": 4,
 "nbformat_minor": 4
}
