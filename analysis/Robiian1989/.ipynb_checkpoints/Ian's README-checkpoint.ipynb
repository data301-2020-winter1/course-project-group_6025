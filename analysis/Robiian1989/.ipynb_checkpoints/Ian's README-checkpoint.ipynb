{
 "cells": [
  {
   "cell_type": "markdown",
   "metadata": {},
   "source": [
    "**Ian's Analyses**\n",
    "\n",
    "   \n",
    "<img src=\"../../images/ChessSet.jpg\" width=\"400px\">\n",
    "\n",
    "In *my* analyses, I shall try to find out if there are any correlations between the length of the game (increment code) and the success of an opening ply. \n",
    "I shall then analyse which opening plies are the most popular and then see which ones let to the highest number of wins. "
   ]
  },
  {
   "cell_type": "code",
   "execution_count": null,
   "metadata": {},
   "outputs": [],
   "source": []
  }
 ],
 "metadata": {
  "kernelspec": {
   "display_name": "Python 3",
   "language": "python",
   "name": "python3"
  },
  "language_info": {
   "codemirror_mode": {
    "name": "ipython",
    "version": 3
   },
   "file_extension": ".py",
   "mimetype": "text/x-python",
   "name": "python",
   "nbconvert_exporter": "python",
   "pygments_lexer": "ipython3",
   "version": "3.8.3"
  }
 },
 "nbformat": 4,
 "nbformat_minor": 4
}
