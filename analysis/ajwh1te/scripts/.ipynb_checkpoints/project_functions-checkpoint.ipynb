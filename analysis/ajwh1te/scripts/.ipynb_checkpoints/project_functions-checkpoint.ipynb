{
 "cells": [
  {
   "cell_type": "code",
   "execution_count": 9,
   "metadata": {},
   "outputs": [],
   "source": [
    "import pandas as pd\n",
    "import numpy as np\n",
    "import seaborn as sns\n",
    "import matplotlib.pyplot as plt"
   ]
  },
  {
   "cell_type": "code",
   "execution_count": 23,
   "metadata": {},
   "outputs": [],
   "source": [
    "def load_and_process(path):\n",
    "    df1 = (pd\n",
    "           .read_csv(path)\n",
    "           .dropna(how='any')\n",
    "           .rename(columns={\"created_at\":\"time_start\", \"last_move_at\":\"time_end\"})\n",
    "           .sort_values(\"turns\", ascending=True)\n",
    "          )\n",
    "    df2 = (df1\n",
    "           .assign(date_start=(pd.to_datetime(df1[\"time_start\"])))\n",
    "           .assign(date_end=(pd.to_datetime(df1[\"time_end\"])))\n",
    "          )\n",
    "    df3 = (df2\n",
    "           .assign(length=(df2[\"date_end\"] - df2[\"date_start\"])*10000000)\n",
    "           .drop(columns=[\"white_id\",\n",
    "                          \"id\",\n",
    "                          \"black_id\",\n",
    "                          \"increment_code\",\n",
    "                          \"time_start\",\n",
    "                          \"time_end\",\n",
    "                          \"rated\"])\n",
    "          )\n",
    "    return df3"
   ]
  },
  {
   "cell_type": "code",
   "execution_count": null,
   "metadata": {},
   "outputs": [],
   "source": []
  }
 ],
 "metadata": {
  "kernelspec": {
   "display_name": "Python 3",
   "language": "python",
   "name": "python3"
  },
  "language_info": {
   "codemirror_mode": {
    "name": "ipython",
    "version": 3
   },
   "file_extension": ".py",
   "mimetype": "text/x-python",
   "name": "python",
   "nbconvert_exporter": "python",
   "pygments_lexer": "ipython3",
   "version": "3.8.3"
  }
 },
 "nbformat": 4,
 "nbformat_minor": 4
}
