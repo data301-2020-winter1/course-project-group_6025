{
 "cells": [
  {
   "cell_type": "code",
   "execution_count": 15,
   "metadata": {},
   "outputs": [],
   "source": [
    "#Functions and imports are included here for simplicity.\n",
    "import pandas as pd\n",
    "import numpy as np\n",
    "import seaborn as sns\n",
    "import matplotlib.pyplot as plt\n",
    "def load_and_process(path):\n",
    "    df1 = (pd\n",
    "           .read_csv(path)\n",
    "           .dropna(how='any')\n",
    "           .rename(columns={\"created_at\":\"time_start\", \"last_move_at\":\"time_end\"})\n",
    "           .sort_values(\"turns\", ascending=True)\n",
    "          )\n",
    "    df2 = (df1\n",
    "           .assign(date_start=(pd.to_datetime(df1[\"time_start\"])))\n",
    "           .assign(date_end=(pd.to_datetime(df1[\"time_end\"])))\n",
    "           .assign(abs_rating=((df1[\"white_rating\"]) - (df1[\"black_rating\"])))\n",
    "          )\n",
    "    df3 = (df2\n",
    "           .assign(length=(df2[\"date_end\"] - df2[\"date_start\"])*10000000)\n",
    "           .drop(columns=[\"white_id\",\n",
    "                          \"id\",\n",
    "                          \"black_id\",\n",
    "                          \"increment_code\",\n",
    "                          \"time_start\",\n",
    "                          \"time_end\",\n",
    "                          \"rated\"])\n",
    "          )\n",
    "    return df3\n",
    "\n",
    "def main_opening(opening):\n",
    "    if ':' in opening:\n",
    "        opening = opening.split(':')[0]\n",
    "    if '|' in opening:\n",
    "        opening = opening.split('|')[0]\n",
    "    if '#' in opening:\n",
    "        opening = opening.split('#')[0]\n",
    "    if 'Accepted' in opening:\n",
    "        opening = opening.replace('Accepted', '')\n",
    "    if 'Declined' in opening:\n",
    "        opening = opening.replace('Declined', '')\n",
    "    if 'Refused' in opening:\n",
    "        opening = opening.replace('Refused', '')\n",
    "    return opening.strip()"
   ]
  },
  {
   "cell_type": "code",
   "execution_count": 27,
   "metadata": {},
   "outputs": [],
   "source": [
    "#This runs the functions on the dataset\n",
    "p = \"../../data/raw/DataSet_ajwh1te.csv\"\n",
    "data = pd.read_csv(p)\n",
    "df = load_and_process(p)\n",
    "df[\"cleaned_opening_name\"] = df[\"opening_name\"].apply(main_opening)\n",
    "\n",
    "#This converts and exports it to .csv\n",
    "df.to_csv(r'cleaned_data.csv')"
   ]
  }
 ],
 "metadata": {
  "kernelspec": {
   "display_name": "Python 3",
   "language": "python",
   "name": "python3"
  },
  "language_info": {
   "codemirror_mode": {
    "name": "ipython",
    "version": 3
   },
   "file_extension": ".py",
   "mimetype": "text/x-python",
   "name": "python",
   "nbconvert_exporter": "python",
   "pygments_lexer": "ipython3",
   "version": "3.8.3"
  }
 },
 "nbformat": 4,
 "nbformat_minor": 4
}
